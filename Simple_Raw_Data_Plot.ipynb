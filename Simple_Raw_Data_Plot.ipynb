{
 "cells": [
  {
   "cell_type": "code",
   "execution_count": 1,
   "metadata": {},
   "outputs": [],
   "source": [
    "#Tiny Plot\n",
    "%matplotlib widget\n",
    "import matplotlib.pyplot as plt\n",
    "import numpy as np\n",
    "import csv\n",
    "import datetime\n",
    "from datetime import datetime\n",
    "\n",
    "Variabel = 1\n",
    "\n",
    "# Read the CSV file and store the data in lists\n",
    "time1 = \"\"\n",
    "timestamps = []\n",
    "timestamps_sec = []\n",
    "values1 = []\n",
    "values2 = []\n",
    "values3 = []\n",
    "values4 = []\n",
    "\n",
    "with open('Carina-C2.csv', 'r') as csvfile:\n",
    "    reader = csv.reader(csvfile)\n",
    "    for row in reader:\n",
    "        timestamps.append((row[0]))\n",
    "        values1.append((float(row[1])))\n",
    "        values2.append((float(row[2])))\n",
    "        values3.append((float(row[3])))\n",
    "        values4.append((float(row[4])))\n",
    "\n",
    "first = datetime.strptime(timestamps[0], '%Y-%m-%d %H:%M:%S.%f')\n",
    "first_milli = first.timestamp() #* 1000\n",
    "\n",
    "for i in timestamps:\n",
    "    x1 = datetime.strptime(i, '%Y-%m-%d %H:%M:%S.%f')\n",
    "    x2 = (x1.timestamp()) - first_milli\n",
    "    #x2 = (x1.timestamp() * 1000) - first_milli\n",
    "    timestamps_sec.append(x2)\n",
    "\n",
    "plt.figure(figsize=(12,8))\n",
    "plt.plot(timestamps_sec, values1, color=\"cornflowerblue\", label='Left Knee', linewidth=2)\n",
    "plt.plot(timestamps_sec, values2, color=\"salmon\", label='Right Knee', linewidth=2)\n",
    "plt.plot(timestamps_sec, values3, color=\"orchid\", label='Seat', linewidth=2)\n",
    "plt.plot(timestamps_sec, values4, color=\"yellowgreen\", label='Belt', linewidth=2)\n",
    "\n",
    "#plt.axhline(y=0.0, color='gray', linestyle='-')\n",
    "plt.xlabel('Timestamp [Sec]', fontsize=24)\n",
    "plt.ylabel('Force [N]', fontsize=24)\n",
    "plt.title(\"Run 3\", fontsize=24)\n",
    "\n",
    "plt.xticks(np.arange(min(timestamps_sec), max(timestamps_sec), 1.0))\n",
    "#plt.xticks(np.arange(1, 200, 0.5))\n",
    "plt.xticks(fontsize = 20)\n",
    "plt.yticks(fontsize = 20)\n",
    "#plt.xlim(27.19, 28.9)\n",
    "plt.ylim(0, 400)\n",
    "plt.legend(fontsize=\"20\", loc =\"upper left\")\n",
    "#plt.grid()\n",
    "plt.show()"
   ]
  },
  {
   "cell_type": "code",
   "execution_count": null,
   "metadata": {},
   "outputs": [],
   "source": []
  }
 ],
 "metadata": {
  "kernelspec": {
   "display_name": "base",
   "language": "python",
   "name": "python3"
  },
  "language_info": {
   "codemirror_mode": {
    "name": "ipython",
    "version": 3
   },
   "file_extension": ".py",
   "mimetype": "text/x-python",
   "name": "python",
   "nbconvert_exporter": "python",
   "pygments_lexer": "ipython3",
   "version": "3.9.13"
  },
  "orig_nbformat": 4,
  "vscode": {
   "interpreter": {
    "hash": "ea3d6b6523f7df3a88d5132c0aa1bfc1430bc31b07f9098fc380564edb4b81bb"
   }
  }
 },
 "nbformat": 4,
 "nbformat_minor": 2
}
